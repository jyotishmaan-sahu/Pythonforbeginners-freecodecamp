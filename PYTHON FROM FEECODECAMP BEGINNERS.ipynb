{
 "cells": [
  {
   "cell_type": "code",
   "execution_count": 7,
   "id": "f14a76fa",
   "metadata": {},
   "outputs": [
    {
     "name": "stdout",
     "output_type": "stream",
     "text": [
      "['jitu', 'situ', 'shreya', 'param']\n",
      "['jitu', 'shreya']\n"
     ]
    }
   ],
   "source": [
    "#LISTS IN PYTHON\n",
    "\n",
    "friends = [\"jitu\", \"situ\", \"shreya\", \"param\"]\n",
    "print(friends)\n",
    "friends[1]= \"jitu\"\n",
    "print(friends[1:3])"
   ]
  },
  {
   "cell_type": "code",
   "execution_count": 16,
   "id": "62d8e7c4",
   "metadata": {},
   "outputs": [
    {
     "name": "stdout",
     "output_type": "stream",
     "text": [
      "['jitu', 'situ', 'shreya', 'pracheta']\n",
      "['jitu', 'situ', 'shreya', 'pracheta', 4, 8, 23, 54, 332, 65, 32]\n",
      "['jitu', 'situ', 'shreya', 'pracheta', 4, 8, 23, 54, 332, 65, 32, 'fakir']\n",
      "['jitu', 'situ', 'shreya', 'pracheta', 4, 8, 23, 54, 332, 65, 32, 'fakir', [4, 8, 23, 54, 332, 65, 32]]\n",
      "['jitu', 'situ', 'shreya', 'pracheta', 4, 8, 23, 54, 332, 65, 32, 'fakir', [4, 8, 23, 54, 332, 65, 32], ('Mango', 'Banana', 'Strawberry')]\n"
     ]
    }
   ],
   "source": [
    "lucky_numbers = [4,8,23,54,332,65,32]\n",
    "friends = [\"jitu\",\"situ\",\"shreya\", \"pracheta\"]\n",
    "fruit = (\"Mango\", \"Banana\", \"Strawberry\")\n",
    "print(friends)\n",
    "friends.extend(lucky_numbers)\n",
    "print(friends)\n",
    "friends.append(\"fakir\")\n",
    "print(friends)\n",
    "friends.append(lucky_numbers)\n",
    "print(friends)\n",
    "friends.append(fruit)\n",
    "print(friends)"
   ]
  },
  {
   "cell_type": "code",
   "execution_count": 18,
   "id": "8e604e2d",
   "metadata": {},
   "outputs": [
    {
     "name": "stdout",
     "output_type": "stream",
     "text": [
      "['jitu', 'situ', 'shreya', 'pracheta', 4, 8, 23, 54, 332, 65, 32, 'fakir']\n",
      "['jitu', 'shreya_panda', 'situ', 'shreya', 'pracheta', 4, 8, 23, 54, 332, 65, 32, 'fakir']\n",
      "9\n",
      "['fakir', 32, 65, 332, 54, 23, 8, 4, 'pracheta', 'shreya', 'shreya_panda', 'jitu']\n"
     ]
    }
   ],
   "source": [
    "lucky_numbers = [4,8,23,54,332,65,32]\n",
    "friends = [\"jitu\",\"situ\",\"shreya\", \"pracheta\"]\n",
    "friends.extend(lucky_numbers)\n",
    "friends.append(\"fakir\")\n",
    "print(friends)\n",
    "friends.insert(1 , \"shreya_panda\")\n",
    "print(friends)\n",
    "friends.remove(\"situ\")\n",
    "friends.reverse()\n",
    "lucky_numbers.sort()\n",
    "print(friends.index(\"shreya\"))\n",
    "print(friends)"
   ]
  },
  {
   "cell_type": "code",
   "execution_count": 19,
   "id": "18d4b01d",
   "metadata": {},
   "outputs": [
    {
     "name": "stdout",
     "output_type": "stream",
     "text": [
      "['jitu', 'situ', 'shreya', 'pracheta']\n"
     ]
    }
   ],
   "source": [
    "lucky_numbers = [4,8,23,54,332,65,32]\n",
    "friends = [\"jitu\",\"situ\",\"shreya\", \"pracheta\"]\n",
    "friend2 = friends.copy()\n",
    "print(friend2)"
   ]
  },
  {
   "cell_type": "code",
   "execution_count": 23,
   "id": "186f31e6",
   "metadata": {},
   "outputs": [
    {
     "name": "stdout",
     "output_type": "stream",
     "text": [
      "(4, 5)\n"
     ]
    }
   ],
   "source": [
    "#tuples in python\n",
    "\n",
    "coordinates = [(4 , 5), (3 , 8)] #data cant be changed with assigning value\n",
    "\n",
    "print(coordinates[0])\n",
    "\n"
   ]
  },
  {
   "cell_type": "code",
   "execution_count": 31,
   "id": "559d1ffd",
   "metadata": {},
   "outputs": [
    {
     "name": "stdout",
     "output_type": "stream",
     "text": [
      "Hello shreya you are 23\n",
      "Hello jitu sahu you are 23\n"
     ]
    }
   ],
   "source": [
    "# functions in python\n",
    "\n",
    "#keyword for function is def\n",
    "\n",
    "def say_hi(name , age):                 #declaring a function\n",
    "    print(\"Hello \" + name + \" you are \"+ age)\n",
    "    \n",
    "say_hi(\"shreya\",\"23\")      #calling a function\n",
    "say_hi(\"jitu sahu\", \"23\")\n",
    "    \n"
   ]
  },
  {
   "cell_type": "code",
   "execution_count": 20,
   "id": "7f5b039e",
   "metadata": {},
   "outputs": [
    {
     "name": "stdout",
     "output_type": "stream",
     "text": [
      "6131066257801\n",
      "16\n"
     ]
    }
   ],
   "source": [
    "# RETURN STATEMENT\n",
    "\n",
    "def cube(num):\n",
    "    return num*num*num*num*num*num*num*num*num*num\n",
    "\n",
    "\n",
    "result = cube(19)\n",
    "print(result)\n",
    "\n",
    "\n",
    "def square (num1):\n",
    "    return num1**2 # or num1 * num1\n",
    "\n",
    "result_sq = square(4)\n",
    "print(result_sq)\n"
   ]
  },
  {
   "cell_type": "code",
   "execution_count": 21,
   "id": "01374e36",
   "metadata": {},
   "outputs": [],
   "source": [
    "#IF STATEMENTS \n",
    "\n",
    "is_male =True"
   ]
  },
  {
   "cell_type": "code",
   "execution_count": 1,
   "id": "99d4b144",
   "metadata": {},
   "outputs": [
    {
     "name": "stdout",
     "output_type": "stream",
     "text": [
      "yes or no: yes\n",
      "True\n"
     ]
    }
   ],
   "source": [
    "student_status = bool(1)\n",
    "student_status_2 = bool(0)\n",
    "Input = input(\"yes or no: \")\n",
    "if(Input == \"yes\"):\n",
    "    print(student_status)\n",
    "else:\n",
    "    print(student_status_2)"
   ]
  },
  {
   "cell_type": "code",
   "execution_count": 22,
   "id": "fea77522",
   "metadata": {},
   "outputs": [
    {
     "name": "stdout",
     "output_type": "stream",
     "text": [
      "enter your intrests: 15\n",
      "enter the search term with page number in the book:  4\n",
      "enter your intrests: 4\n"
     ]
    }
   ],
   "source": [
    "#sequence -list , tuple, range\n",
    "intrest_1 = input(\"enter your intrests: \")\n",
    "#mapping -dict\n",
    "dict_1 = input (\"enter the search term with page number in the book:  \")\n",
    "\n",
    "#set types - set, frozenset\n",
    "set_1 = input(\"enter your intrests: \")"
   ]
  },
  {
   "cell_type": "code",
   "execution_count": 1,
   "id": "39bb6f72",
   "metadata": {},
   "outputs": [
    {
     "name": "stdout",
     "output_type": "stream",
     "text": [
      "Enter any number you want to search :30\n",
      "True\n",
      "False\n"
     ]
    }
   ],
   "source": [
    "# memebership \n",
    "number_1 =[10,20,30,40,50] # this is the example of list datatype \n",
    "\n",
    "srch= int(input(\"Enter any number you want to search :\")) \n",
    "\n",
    "print(srch in number_1) # return True if searched item is present in the collection \n",
    "\n",
    "print(srch not in number_1) # return True if searched item is not present in collection"
   ]
  },
  {
   "cell_type": "code",
   "execution_count": 2,
   "id": "23fd002a",
   "metadata": {},
   "outputs": [
    {
     "name": "stdout",
     "output_type": "stream",
     "text": [
      "enter any integer: 10\n",
      "enter any integer: 32\n",
      "0\n",
      "42\n",
      "42\n",
      "-11\n",
      "5\n",
      "20\n"
     ]
    }
   ],
   "source": [
    "#bitwise-> &(and) |(or) ^(xdr)  ~(not) <<(zero fill left shift) >>(signed right shift)\n",
    "\n",
    "number_1 = int(input(\"enter any integer: \"))\n",
    "number_2 = int(input(\"enter any integer: \"))\n",
    "\n",
    "print(number_1 & number_2)\n",
    "print(number_1 | number_2)\n",
    "print(number_1 ^ number_2)\n",
    "print(~number_1)\n",
    "print(number_1 >> 1)\n",
    "print(number_1 << 1)\n",
    "\n",
    "#left shift example\n",
    "#number_1 = 10/(2^1) # for 1 bit\n",
    "\n",
    "#right shift\n",
    "#number_1 = 10*(2^1)  # for bit"
   ]
  },
  {
   "cell_type": "code",
   "execution_count": 1,
   "id": "4c09b571",
   "metadata": {},
   "outputs": [
    {
     "name": "stdout",
     "output_type": "stream",
     "text": [
      "you are short male\n"
     ]
    }
   ],
   "source": [
    "is_male = True\n",
    "is_tall = False\n",
    "\n",
    "if is_male and is_tall:\n",
    "    print(\"you are a tall male\")\n",
    "elif is_male and not(is_tall):\n",
    "    print(\"you are short male\")\n",
    "elif not(is_male) and is_tall:\n",
    "    print(\"you are not a male but tall\")\n",
    "else:\n",
    "    print(\"you are not a male nor tall\")\n",
    "    "
   ]
  },
  {
   "cell_type": "code",
   "execution_count": 5,
   "id": "9e983220",
   "metadata": {},
   "outputs": [
    {
     "name": "stdout",
     "output_type": "stream",
     "text": [
      "200\n"
     ]
    }
   ],
   "source": [
    "def max_num(num1, num2, num3):\n",
    "    if  num1 >=  num2 and num1 >= num3:\n",
    "        return num1\n",
    "    elif num2 >= num1 and num2 >= num3:\n",
    "        return num2\n",
    "    else:\n",
    "        return num3\n",
    "    \n",
    "print(max_num(200,40,5))\n",
    "        "
   ]
  },
  {
   "cell_type": "code",
   "execution_count": 23,
   "id": "dd2bdb4b",
   "metadata": {},
   "outputs": [
    {
     "name": "stdout",
     "output_type": "stream",
     "text": [
      "enter first number: 4\n",
      "enter operator: -\n",
      "enter second number: 6\n",
      "-2.0\n"
     ]
    }
   ],
   "source": [
    "#program for calculator\n",
    "num1 = float(input(\"enter first number: \"))\n",
    "op = input(\"enter operator: \")\n",
    "num2 = float(input(\"enter second number: \"))\n",
    "\n",
    "if op == \"+\":\n",
    "    print(num1 + num2)\n",
    "elif op == \"-\":\n",
    "    print(num1 - num2)\n",
    "elif op == \"/\":\n",
    "    print(num1/num2)\n",
    "elif op == \"*\":\n",
    "    print(num1*num2)\n",
    "else:\n",
    "    print(\"invalid operator\")\n"
   ]
  },
  {
   "cell_type": "code",
   "execution_count": 6,
   "id": "48b8d854",
   "metadata": {},
   "outputs": [
    {
     "name": "stdout",
     "output_type": "stream",
     "text": [
      "December\n",
      "November\n",
      "None\n"
     ]
    }
   ],
   "source": [
    "#use of dictionary and libraries in python\n",
    "\n",
    "monthConversion = {\n",
    "    \"Jan\": \"January\",\n",
    "    \"Feb\": \"Febuary\",  #making each as key\n",
    "    \"Mar\": \"March\",\n",
    "    \"Apr\": \"April\",\n",
    "    \"May\": \"May\",\n",
    "    \"Jun\": \"June\",\n",
    "    \"Jul\": \"July\",\n",
    "    \"Aug\": \"August\",\n",
    "    \"Sep\": \"September\",\n",
    "    \"Oct\": \"October\",\n",
    "    \"Nov\": \"November\",\n",
    "    \"Dec\": \"December\",\n",
    "}\n",
    "\n",
    "print(monthConversion.get(\"Dec\"))\n",
    "print(monthConversion[\"Nov\"])\n",
    "print(monthConversion.get(\"jitu\"))"
   ]
  },
  {
   "cell_type": "code",
   "execution_count": 7,
   "id": "ab984918",
   "metadata": {},
   "outputs": [
    {
     "name": "stdout",
     "output_type": "stream",
     "text": [
      "10\n",
      "9\n",
      "8\n",
      "7\n",
      "6\n",
      "5\n",
      "4\n",
      "3\n",
      "2\n",
      "1\n",
      "Done with loop\n",
      "1\n",
      "3\n",
      "5\n",
      "7\n",
      "9\n",
      "For loop is end\n"
     ]
    }
   ],
   "source": [
    "#while loops in Python\n",
    "\n",
    "i = 10\n",
    "while i >= 1:\n",
    "    print(i)\n",
    "    i -= 1\n",
    "print(\"Done with loop\")\n",
    "\n",
    "for i in range(1, 11,2):\n",
    "    print(i)\n",
    "print(\"For loop is end\")"
   ]
  },
  {
   "cell_type": "code",
   "execution_count": 8,
   "id": "e778e842",
   "metadata": {},
   "outputs": [
    {
     "name": "stdout",
     "output_type": "stream",
     "text": [
      "Enter Guess: shreya\n",
      "You win!!\n"
     ]
    }
   ],
   "source": [
    "#Building a guessing Game\n",
    "\n",
    "secret_word = \"Shreya\"\n",
    "secret_word_2 = \"shreya\"\n",
    "guess = \"\" \n",
    "\n",
    "while (guess != secret_word and guess != secret_word_2):\n",
    "    guess = input(\"Enter Guess: \")\n",
    "\n",
    "print(\"You win!!\")"
   ]
  },
  {
   "cell_type": "code",
   "execution_count": 2,
   "id": "8d93d278",
   "metadata": {},
   "outputs": [
    {
     "name": "stdout",
     "output_type": "stream",
     "text": [
      "Enter Guess: jfre\\\n",
      "Enter Guess: param\n",
      "Enter Guess: Jitu\n",
      "You win!!\n"
     ]
    }
   ],
   "source": [
    "#Guess game with limits (using condtion)\n",
    "secret_word = \"Jitu\"\n",
    "secret_word_2 = \"situ\"\n",
    "guess = \"\" \n",
    "guess_count = 0\n",
    "guess_limit = 5\n",
    "out_of_guesses = False\n",
    "\n",
    "while (guess != secret_word and guess != secret_word_2) and not (out_of_guesses):\n",
    "    if guess_count  < guess_limit:\n",
    "        \n",
    "        guess = input(\"Enter Guess: \")\n",
    "        guess_count += 1\n",
    "    else:\n",
    "        out_of_guesses = True\n",
    "        print(\"you are out of guesses\")\n",
    "        \n",
    "if out_of_guesses:\n",
    "    print(\"Out of Guesses, YOU LOSE!\")\n",
    "\n",
    "print(\"You win!!\")"
   ]
  },
  {
   "cell_type": "code",
   "execution_count": 7,
   "id": "0fe6d6af",
   "metadata": {},
   "outputs": [
    {
     "name": "stdout",
     "output_type": "stream",
     "text": [
      "J\n",
      "i\n",
      "t\n",
      "u\n",
      " \n",
      "S\n",
      "a\n",
      "h\n",
      "u\n",
      "Situ\n",
      "Param\n",
      "Afaque\n",
      "0\n",
      "1\n",
      "2\n",
      "3\n",
      "4\n",
      "5\n",
      "6\n",
      "7\n",
      "8\n",
      "9\n",
      "3\n",
      "4\n",
      "5\n",
      "6\n",
      "7\n",
      "8\n",
      "9\n"
     ]
    }
   ],
   "source": [
    "#For loops\n",
    "\n",
    "#example 1\n",
    "for word in \"Jitu Sahu\":\n",
    "    print(word)\n",
    "    \n",
    "#example 2\n",
    "friends = [\"Situ\" , \"Param\", \"Afaque\"]\n",
    "for name in friends:\n",
    "    print(name)\n",
    "\n",
    "#example 3\n",
    "for index in range(10):\n",
    "    print(index)\n",
    "\n",
    "#example 4\n",
    "for index in range(3,10):\n",
    "    print(index)"
   ]
  },
  {
   "cell_type": "code",
   "execution_count": 11,
   "id": "f6a27936",
   "metadata": {},
   "outputs": [
    {
     "name": "stdout",
     "output_type": "stream",
     "text": [
      "Jitu\n",
      "situ\n",
      "afaque\n"
     ]
    }
   ],
   "source": [
    "#for loop\n",
    "friends = [\"Jitu\",\"situ\",\"afaque\"]\n",
    "\n",
    "for index in range(len(friends)):\n",
    "    print(friends[index])\n"
   ]
  },
  {
   "cell_type": "code",
   "execution_count": 16,
   "id": "35f82ca7",
   "metadata": {},
   "outputs": [
    {
     "name": "stdout",
     "output_type": "stream",
     "text": [
      "first iteration\n",
      "second iteration\n",
      "Not first\n",
      "Not first\n",
      "Not first\n"
     ]
    }
   ],
   "source": [
    "friends = [\"Jitu\",\"situ\",\"afaque\"]\n",
    "\n",
    "for index in range(5):\n",
    "    if index == 0:\n",
    "        print(\"first iteration\")\n",
    "    elif index== 1:\n",
    "        print(\"second iteration\")\n",
    "    else:\n",
    "        print(\"Not first\")"
   ]
  },
  {
   "cell_type": "code",
   "execution_count": 20,
   "id": "0b05f242",
   "metadata": {},
   "outputs": [
    {
     "name": "stdout",
     "output_type": "stream",
     "text": [
      "144\n"
     ]
    }
   ],
   "source": [
    "#Exponent Function\n",
    "\n",
    "def raise_to_power(base_num , pow_num):\n",
    "    result = 1 \n",
    "    for index in range(pow_num):\n",
    "        result = result * base_num\n",
    "    return result\n",
    "\n",
    "print(raise_to_power(12 , 2))"
   ]
  },
  {
   "cell_type": "code",
   "execution_count": 28,
   "id": "3020fece",
   "metadata": {},
   "outputs": [
    {
     "name": "stdout",
     "output_type": "stream",
     "text": [
      "1\n",
      "2\n",
      "3\n",
      "4\n",
      "5\n",
      "6\n",
      "7\n",
      "8\n",
      "9\n",
      "0\n"
     ]
    }
   ],
   "source": [
    "#2D lists & Nested loops\n",
    "\n",
    "number_grid = [  #2d lists\n",
    "    [1,2,3],\n",
    "    [4,5,6],\n",
    "    [7,8,9],\n",
    "    [0]\n",
    "]\n",
    "\n",
    "print(number_grid[0][0]) #first index is of row and second is of coloumn\n",
    "print(number_grid [1][1])\n",
    "print(number_grid [3][0])\n",
    "\n",
    "#Nested for loop\n",
    "\n",
    "for row in number_grid:\n",
    "    for col in row:\n",
    "        print(col)\n"
   ]
  },
  {
   "cell_type": "code",
   "execution_count": 33,
   "id": "46b0643f",
   "metadata": {},
   "outputs": [
    {
     "name": "stdout",
     "output_type": "stream",
     "text": [
      "Enter a phrase: JITU\n",
      "JGTG\n"
     ]
    }
   ],
   "source": [
    "#Build a Translator in Python\n",
    "\n",
    "# Jitu language\n",
    "# vowels -> g\n",
    "\n",
    "# dog ->> dgg\n",
    "# cat -> cgt\n",
    "\n",
    "\n",
    "def translate(phrase):  #translation function\n",
    "    translation = \"\"\n",
    "    for letter in phrase:\n",
    "        if letter.lower() in \"aeiou\":\n",
    "            if letter.isupper():\n",
    "                translation = translation + \"G\"\n",
    "            else:\n",
    "                translation = translation + \"g\"\n",
    "        else:\n",
    "            translation = translation + letter\n",
    "    return translation\n",
    "\n",
    "\n",
    "print(translate(input(\"Enter a phrase: \")))"
   ]
  },
  {
   "cell_type": "code",
   "execution_count": 35,
   "id": "b8a3e087",
   "metadata": {},
   "outputs": [
    {
     "data": {
      "text/plain": [
       "'\\njitu sahu\\nparam vishwakarma\\njyotishmaan sahu\\n\\n'"
      ]
     },
     "execution_count": 35,
     "metadata": {},
     "output_type": "execute_result"
    }
   ],
   "source": [
    "#COMMENTS\n",
    "\n",
    "# print(\"comments are fun\")\n",
    "'''\n",
    "jitu sahu\n",
    "param vishwakarma\n",
    "jyotishmaan sahu\n",
    "\n",
    "'''"
   ]
  },
  {
   "cell_type": "code",
   "execution_count": 44,
   "id": "45680cdb",
   "metadata": {},
   "outputs": [
    {
     "name": "stdout",
     "output_type": "stream",
     "text": [
      "division by zero\n"
     ]
    }
   ],
   "source": [
    "#Try except (catching errors in python)\n",
    "\n",
    "\n",
    "try:\n",
    "    answer = 10 /0\n",
    "    number = int(input(\"Enter a number: \"))\n",
    "    print(number)\n",
    "       \n",
    "except ZeroDivisionError as err: \n",
    "    print(err)\n",
    "    \n",
    "except ValueError:\n",
    "    print(\"Invalid input\")"
   ]
  },
  {
   "cell_type": "code",
   "execution_count": 3,
   "id": "11dce086",
   "metadata": {},
   "outputs": [
    {
     "name": "stdout",
     "output_type": "stream",
     "text": [
      "Param - software engineer\n",
      "\n",
      "Jitu - web devloper\n",
      "\n",
      "situ - sports person\n",
      "\n",
      "Shreya - Artist\n"
     ]
    }
   ],
   "source": [
    "#Reading from external files\n",
    "\n",
    "# open(\"example.txt\", \"r\") # read files\n",
    "# open(\"example.txt\", \"w\") #write files\n",
    "# open(\"example.txt\" , \"a\") #append files\n",
    "# open(\"example.txt\", \"r+\") # read and write files\n",
    "#readable function determines file can be readble or not\n",
    "#read function determines and  read everything in file\n",
    "#readline function read each line in file one by one\n",
    "#readlines function put eaxh element of file in array and print it out\n",
    "\n",
    "\n",
    "employee_file = open(\"example.txt\", \"r\")\n",
    "\n",
    "for employee in employee_file.readlines():\n",
    "    print(employee) \n",
    "\n",
    "employee_file.close()\n"
   ]
  },
  {
   "cell_type": "code",
   "execution_count": 8,
   "id": "b7de8e68",
   "metadata": {},
   "outputs": [],
   "source": [
    "#appending the files\n",
    "\n",
    "employee_file= open(\"example.txt\" , \"a\")\n",
    "\n",
    "employee_file.write(\"\\nAfaque - Human Resources\")\n",
    "\n",
    "employee_file.write(\"\\nFakir - customer service\")\n",
    "\n",
    "employee_file.close()"
   ]
  },
  {
   "cell_type": "code",
   "execution_count": 13,
   "id": "058a9526",
   "metadata": {},
   "outputs": [],
   "source": [
    "#writing the files\n",
    "\n",
    "employee_file = open(\"index.html\", \"w\")\n",
    "employee_file.write(\"<p> This is my HTML PAGE </P>\")\n",
    "employee_file.close()"
   ]
  },
  {
   "cell_type": "code",
   "execution_count": 17,
   "id": "6cc498b5",
   "metadata": {},
   "outputs": [
    {
     "name": "stdout",
     "output_type": "stream",
     "text": [
      "3\n"
     ]
    }
   ],
   "source": [
    "#Using modules  #importing function from external python files\n",
    "\n",
    "import useful_tools\n",
    "print(useful_tools.roll_dice(10))\n"
   ]
  },
  {
   "cell_type": "code",
   "execution_count": null,
   "id": "9ad97f86",
   "metadata": {},
   "outputs": [],
   "source": [
    "#Classes and Objects\n",
    "#In file student.py\n",
    "\n",
    "class student:\n",
    "    def __init__(self, name, major, gpa, is_on_probation):\n",
    "        self.name = name\n",
    "        self.major = major\n",
    "        self.gpa = gpa\n",
    "        self.is_on_probation = is_on_probation\n",
    "        \n",
    "#in file app.py\n",
    "\n",
    "from student import student\n",
    "\n",
    "student1 = student(\"Jitu\", \"CYBER\", 9.5 , False)\n",
    "student2 = student(\"SITU\", \"DRAWING\", 8.9 , True)\n",
    "print(student1.name)\n",
    "print(student1.gpa)\n",
    "print(student1.major)\n",
    "print(student1.is_on_probation)\n",
    "\n"
   ]
  },
  {
   "cell_type": "code",
   "execution_count": null,
   "id": "b77538bf",
   "metadata": {},
   "outputs": [],
   "source": [
    "#Building a multiple choice quiz\n",
    "\n",
    "#Creating a class named Question1 with file name Question.py\n",
    "class Question1:\n",
    "    def __init__(self,prompt,answer):\n",
    "        self.prompt = prompt\n",
    "        self.answer = answer\n",
    "\n",
    "#creating function and calling from class(Question1) and from Question.py\n",
    "#File name : app1.py\n",
    "\n",
    "from Question import Question1\n",
    "question_prompts = [\n",
    "    \"What color are apples?\\n(a) Red/Green\\n (b) purple\\n (c)Orange\\n\\n\",\n",
    "    \"what color Bananas?\\n (a)Teal\\n (b)Magenta\\n (c)Yellow\\n\\n\",\n",
    "    \"what color are strawberries?\\n (a)Yellow\\n (b)Red\\n (c)Blue\\n\\n\"\n",
    "]\n",
    "\n",
    "questions = [\n",
    "    Question1(question_prompts[0], \"a\"),\n",
    "    Question1(question_prompts[1], \"c\"),\n",
    "    Question1(question_prompts[2], \"b\"),\n",
    "]\n",
    "\n",
    "def run_test(questions):\n",
    "    score = 0\n",
    "    for question in questions:\n",
    "        answer = input(question.prompt)\n",
    "        if answer == question.answer:\n",
    "            score += 1\n",
    "    \n",
    "    print(\"You Got \"+ str(score) + \"/\" + str(len(questions)) + \"Correct\")\n",
    "\n",
    "run_test(questions)\n",
    "\n"
   ]
  },
  {
   "cell_type": "code",
   "execution_count": null,
   "id": "a62e5c09",
   "metadata": {},
   "outputs": [],
   "source": [
    "#Putting Function Inside The class\n",
    "\n",
    "#File name: student.py\n",
    "#class declaration and function\n",
    "\n",
    "class student:\n",
    "    def __init__(self, name, major, gpa):\n",
    "        self.name = name\n",
    "        self.major = major\n",
    "        self.gpa = gpa\n",
    "        \n",
    "    def on_honor_roll(self):\n",
    "        if self.gpa >= 6.5:\n",
    "            return True\n",
    "        else:\n",
    "            return False\n",
    "        \n",
    "#file name: App.py\n",
    "#importing class student from student.py\n",
    "#Putting function inside the class\n",
    "\n",
    "from student import student\n",
    "\n",
    "student1 = student(\"Jitu\", \"CYBER\", 3.4)\n",
    "student2 = student(\"SHREYA\", \"DRAWING\", 9.2)\n",
    "\n",
    "print(student1.on_honor_roll()) #function inside the class\n",
    "print(student2.on_honor_roll())\n",
    "\n",
    "\n"
   ]
  },
  {
   "cell_type": "code",
   "execution_count": null,
   "id": "89e1eacb",
   "metadata": {},
   "outputs": [],
   "source": [
    "#Inheritance In python\n",
    "\n",
    "#file name : chef.py\n",
    "#creating a class name chef\n",
    "\n",
    "class chef:\n",
    "    def make_chicken(self):\n",
    "        print(\"The chef makes a chicken\")\n",
    "    \n",
    "    def make_salad(self):\n",
    "        print(\"The chef makes a salad\")\n",
    "\n",
    "    def make_special_dish(self):\n",
    "        print(\"The chef makes barbeque\")\n",
    "        \n",
    "#file name: chinesechef.py\n",
    "#creating class name chinesechef and import from chef.py\n",
    "\n",
    "from chef import chef\n",
    "\n",
    "class chinesechef(chef): #inheritance from chef class to new chinesechef\n",
    "      def make_special_dish(self):\n",
    "        print(\"The chef can make aloo tikki\")\n",
    "\n",
    "\n",
    "    def make_fried_rice(self):\n",
    "        print(\"The chef makes fried rice\")\n",
    "        \n",
    "#File name: chef_program.py\n",
    "\n",
    "from chef import chef\n",
    "from chinesechef import chinesechef\n",
    "\n",
    "mychef = chef()\n",
    "mychef.make_chicken()\n",
    "\n",
    "mychinesechef = chinesechef()  #inherited functions from chef class\n",
    "mychinesechef.make_fried_rice()\n",
    "mychinesechef.make_special_dish()\n"
   ]
  }
 ],
 "metadata": {
  "kernelspec": {
   "display_name": "Python 3 (ipykernel)",
   "language": "python",
   "name": "python3"
  },
  "language_info": {
   "codemirror_mode": {
    "name": "ipython",
    "version": 3
   },
   "file_extension": ".py",
   "mimetype": "text/x-python",
   "name": "python",
   "nbconvert_exporter": "python",
   "pygments_lexer": "ipython3",
   "version": "3.9.12"
  }
 },
 "nbformat": 4,
 "nbformat_minor": 5
}
